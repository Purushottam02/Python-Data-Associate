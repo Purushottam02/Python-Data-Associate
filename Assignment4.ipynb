{
 "cells": [
  {
   "cell_type": "code",
   "execution_count": 37,
   "id": "6603b255",
   "metadata": {},
   "outputs": [],
   "source": [
    "import pandas as pd\n",
    "import matplotlib.pyplot as plt\n",
    "import seaborn as sns\n",
    "import numpy as np"
   ]
  },
  {
   "cell_type": "code",
   "execution_count": 16,
   "id": "0a6551d8",
   "metadata": {},
   "outputs": [],
   "source": [
    "data=pd.read_csv(r\"D:/SCDL/Excel/IPL-Ball-by-Ball 2008-2020.csv\")"
   ]
  },
  {
   "cell_type": "code",
   "execution_count": 28,
   "id": "f4fcbaff",
   "metadata": {},
   "outputs": [
    {
     "data": {
      "text/plain": [
       "id              0\n",
       "inning          0\n",
       "over            0\n",
       "ball            0\n",
       "batsman         0\n",
       "non_striker     0\n",
       "bowler          0\n",
       "batsman_runs    0\n",
       "extra_runs      0\n",
       "total_runs      0\n",
       "non_boundary    0\n",
       "is_wicket       0\n",
       "batting_team    0\n",
       "bowling_team    0\n",
       "dtype: int64"
      ]
     },
     "execution_count": 28,
     "metadata": {},
     "output_type": "execute_result"
    }
   ],
   "source": [
    "data.isna().sum()"
   ]
  },
  {
   "cell_type": "code",
   "execution_count": 18,
   "id": "c7f924d0",
   "metadata": {},
   "outputs": [
    {
     "data": {
      "text/html": [
       "<div>\n",
       "<style scoped>\n",
       "    .dataframe tbody tr th:only-of-type {\n",
       "        vertical-align: middle;\n",
       "    }\n",
       "\n",
       "    .dataframe tbody tr th {\n",
       "        vertical-align: top;\n",
       "    }\n",
       "\n",
       "    .dataframe thead th {\n",
       "        text-align: right;\n",
       "    }\n",
       "</style>\n",
       "<table border=\"1\" class=\"dataframe\">\n",
       "  <thead>\n",
       "    <tr style=\"text-align: right;\">\n",
       "      <th></th>\n",
       "      <th>id</th>\n",
       "      <th>inning</th>\n",
       "      <th>over</th>\n",
       "      <th>ball</th>\n",
       "      <th>batsman</th>\n",
       "      <th>non_striker</th>\n",
       "      <th>bowler</th>\n",
       "      <th>batsman_runs</th>\n",
       "      <th>extra_runs</th>\n",
       "      <th>total_runs</th>\n",
       "      <th>non_boundary</th>\n",
       "      <th>is_wicket</th>\n",
       "      <th>batting_team</th>\n",
       "      <th>bowling_team</th>\n",
       "    </tr>\n",
       "  </thead>\n",
       "  <tbody>\n",
       "    <tr>\n",
       "      <th>0</th>\n",
       "      <td>1</td>\n",
       "      <td>1</td>\n",
       "      <td>6</td>\n",
       "      <td>5</td>\n",
       "      <td>RT Ponting</td>\n",
       "      <td>BB McCullum</td>\n",
       "      <td>AA Noffke</td>\n",
       "      <td>1</td>\n",
       "      <td>0</td>\n",
       "      <td>1</td>\n",
       "      <td>0</td>\n",
       "      <td>0</td>\n",
       "      <td>Kolkata Knight Riders</td>\n",
       "      <td>Royal Challengers Bangalore</td>\n",
       "    </tr>\n",
       "    <tr>\n",
       "      <th>1</th>\n",
       "      <td>2</td>\n",
       "      <td>1</td>\n",
       "      <td>6</td>\n",
       "      <td>6</td>\n",
       "      <td>BB McCullum</td>\n",
       "      <td>RT Ponting</td>\n",
       "      <td>AA Noffke</td>\n",
       "      <td>1</td>\n",
       "      <td>0</td>\n",
       "      <td>1</td>\n",
       "      <td>0</td>\n",
       "      <td>0</td>\n",
       "      <td>Kolkata Knight Riders</td>\n",
       "      <td>Royal Challengers Bangalore</td>\n",
       "    </tr>\n",
       "    <tr>\n",
       "      <th>2</th>\n",
       "      <td>3</td>\n",
       "      <td>1</td>\n",
       "      <td>7</td>\n",
       "      <td>1</td>\n",
       "      <td>BB McCullum</td>\n",
       "      <td>RT Ponting</td>\n",
       "      <td>Z Khan</td>\n",
       "      <td>0</td>\n",
       "      <td>0</td>\n",
       "      <td>0</td>\n",
       "      <td>0</td>\n",
       "      <td>0</td>\n",
       "      <td>Kolkata Knight Riders</td>\n",
       "      <td>Royal Challengers Bangalore</td>\n",
       "    </tr>\n",
       "    <tr>\n",
       "      <th>3</th>\n",
       "      <td>4</td>\n",
       "      <td>1</td>\n",
       "      <td>7</td>\n",
       "      <td>2</td>\n",
       "      <td>BB McCullum</td>\n",
       "      <td>RT Ponting</td>\n",
       "      <td>Z Khan</td>\n",
       "      <td>1</td>\n",
       "      <td>0</td>\n",
       "      <td>1</td>\n",
       "      <td>0</td>\n",
       "      <td>0</td>\n",
       "      <td>Kolkata Knight Riders</td>\n",
       "      <td>Royal Challengers Bangalore</td>\n",
       "    </tr>\n",
       "    <tr>\n",
       "      <th>4</th>\n",
       "      <td>5</td>\n",
       "      <td>1</td>\n",
       "      <td>7</td>\n",
       "      <td>3</td>\n",
       "      <td>RT Ponting</td>\n",
       "      <td>BB McCullum</td>\n",
       "      <td>Z Khan</td>\n",
       "      <td>1</td>\n",
       "      <td>0</td>\n",
       "      <td>1</td>\n",
       "      <td>0</td>\n",
       "      <td>0</td>\n",
       "      <td>Kolkata Knight Riders</td>\n",
       "      <td>Royal Challengers Bangalore</td>\n",
       "    </tr>\n",
       "  </tbody>\n",
       "</table>\n",
       "</div>"
      ],
      "text/plain": [
       "   id  inning  over  ball      batsman  non_striker     bowler  batsman_runs  \\\n",
       "0   1       1     6     5   RT Ponting  BB McCullum  AA Noffke             1   \n",
       "1   2       1     6     6  BB McCullum   RT Ponting  AA Noffke             1   \n",
       "2   3       1     7     1  BB McCullum   RT Ponting     Z Khan             0   \n",
       "3   4       1     7     2  BB McCullum   RT Ponting     Z Khan             1   \n",
       "4   5       1     7     3   RT Ponting  BB McCullum     Z Khan             1   \n",
       "\n",
       "   extra_runs  total_runs  non_boundary  is_wicket           batting_team  \\\n",
       "0           0           1             0          0  Kolkata Knight Riders   \n",
       "1           0           1             0          0  Kolkata Knight Riders   \n",
       "2           0           0             0          0  Kolkata Knight Riders   \n",
       "3           0           1             0          0  Kolkata Knight Riders   \n",
       "4           0           1             0          0  Kolkata Knight Riders   \n",
       "\n",
       "                  bowling_team  \n",
       "0  Royal Challengers Bangalore  \n",
       "1  Royal Challengers Bangalore  \n",
       "2  Royal Challengers Bangalore  \n",
       "3  Royal Challengers Bangalore  \n",
       "4  Royal Challengers Bangalore  "
      ]
     },
     "execution_count": 18,
     "metadata": {},
     "output_type": "execute_result"
    }
   ],
   "source": [
    "data.head()"
   ]
  },
  {
   "cell_type": "code",
   "execution_count": 19,
   "id": "8c46d000",
   "metadata": {},
   "outputs": [
    {
     "data": {
      "text/html": [
       "<div>\n",
       "<style scoped>\n",
       "    .dataframe tbody tr th:only-of-type {\n",
       "        vertical-align: middle;\n",
       "    }\n",
       "\n",
       "    .dataframe tbody tr th {\n",
       "        vertical-align: top;\n",
       "    }\n",
       "\n",
       "    .dataframe thead th {\n",
       "        text-align: right;\n",
       "    }\n",
       "</style>\n",
       "<table border=\"1\" class=\"dataframe\">\n",
       "  <thead>\n",
       "    <tr style=\"text-align: right;\">\n",
       "      <th></th>\n",
       "      <th>id</th>\n",
       "      <th>inning</th>\n",
       "      <th>over</th>\n",
       "      <th>ball</th>\n",
       "      <th>batsman</th>\n",
       "      <th>non_striker</th>\n",
       "      <th>bowler</th>\n",
       "      <th>batsman_runs</th>\n",
       "      <th>extra_runs</th>\n",
       "      <th>total_runs</th>\n",
       "      <th>non_boundary</th>\n",
       "      <th>is_wicket</th>\n",
       "      <th>batting_team</th>\n",
       "      <th>bowling_team</th>\n",
       "    </tr>\n",
       "  </thead>\n",
       "  <tbody>\n",
       "    <tr>\n",
       "      <th>496</th>\n",
       "      <td>497</td>\n",
       "      <td>2</td>\n",
       "      <td>10</td>\n",
       "      <td>2</td>\n",
       "      <td>S Dhawan</td>\n",
       "      <td>G Gambhir</td>\n",
       "      <td>SK Warne</td>\n",
       "      <td>1</td>\n",
       "      <td>0</td>\n",
       "      <td>1</td>\n",
       "      <td>0</td>\n",
       "      <td>0</td>\n",
       "      <td>Delhi Daredevils</td>\n",
       "      <td>Rajasthan Royals</td>\n",
       "    </tr>\n",
       "    <tr>\n",
       "      <th>497</th>\n",
       "      <td>498</td>\n",
       "      <td>2</td>\n",
       "      <td>10</td>\n",
       "      <td>3</td>\n",
       "      <td>G Gambhir</td>\n",
       "      <td>S Dhawan</td>\n",
       "      <td>SK Warne</td>\n",
       "      <td>4</td>\n",
       "      <td>0</td>\n",
       "      <td>4</td>\n",
       "      <td>0</td>\n",
       "      <td>0</td>\n",
       "      <td>Delhi Daredevils</td>\n",
       "      <td>Rajasthan Royals</td>\n",
       "    </tr>\n",
       "    <tr>\n",
       "      <th>498</th>\n",
       "      <td>499</td>\n",
       "      <td>2</td>\n",
       "      <td>10</td>\n",
       "      <td>4</td>\n",
       "      <td>G Gambhir</td>\n",
       "      <td>S Dhawan</td>\n",
       "      <td>SK Warne</td>\n",
       "      <td>1</td>\n",
       "      <td>0</td>\n",
       "      <td>1</td>\n",
       "      <td>0</td>\n",
       "      <td>0</td>\n",
       "      <td>Delhi Daredevils</td>\n",
       "      <td>Rajasthan Royals</td>\n",
       "    </tr>\n",
       "    <tr>\n",
       "      <th>499</th>\n",
       "      <td>500</td>\n",
       "      <td>2</td>\n",
       "      <td>10</td>\n",
       "      <td>5</td>\n",
       "      <td>S Dhawan</td>\n",
       "      <td>G Gambhir</td>\n",
       "      <td>SK Warne</td>\n",
       "      <td>1</td>\n",
       "      <td>0</td>\n",
       "      <td>1</td>\n",
       "      <td>0</td>\n",
       "      <td>0</td>\n",
       "      <td>Delhi Daredevils</td>\n",
       "      <td>Rajasthan Royals</td>\n",
       "    </tr>\n",
       "    <tr>\n",
       "      <th>500</th>\n",
       "      <td>501</td>\n",
       "      <td>2</td>\n",
       "      <td>10</td>\n",
       "      <td>6</td>\n",
       "      <td>G Gambhir</td>\n",
       "      <td>S Dhawan</td>\n",
       "      <td>SK Warne</td>\n",
       "      <td>1</td>\n",
       "      <td>0</td>\n",
       "      <td>1</td>\n",
       "      <td>0</td>\n",
       "      <td>0</td>\n",
       "      <td>Delhi Daredevils</td>\n",
       "      <td>Rajasthan Royals</td>\n",
       "    </tr>\n",
       "  </tbody>\n",
       "</table>\n",
       "</div>"
      ],
      "text/plain": [
       "      id  inning  over  ball    batsman non_striker    bowler  batsman_runs  \\\n",
       "496  497       2    10     2   S Dhawan   G Gambhir  SK Warne             1   \n",
       "497  498       2    10     3  G Gambhir    S Dhawan  SK Warne             4   \n",
       "498  499       2    10     4  G Gambhir    S Dhawan  SK Warne             1   \n",
       "499  500       2    10     5   S Dhawan   G Gambhir  SK Warne             1   \n",
       "500  501       2    10     6  G Gambhir    S Dhawan  SK Warne             1   \n",
       "\n",
       "     extra_runs  total_runs  non_boundary  is_wicket      batting_team  \\\n",
       "496           0           1             0          0  Delhi Daredevils   \n",
       "497           0           4             0          0  Delhi Daredevils   \n",
       "498           0           1             0          0  Delhi Daredevils   \n",
       "499           0           1             0          0  Delhi Daredevils   \n",
       "500           0           1             0          0  Delhi Daredevils   \n",
       "\n",
       "         bowling_team  \n",
       "496  Rajasthan Royals  \n",
       "497  Rajasthan Royals  \n",
       "498  Rajasthan Royals  \n",
       "499  Rajasthan Royals  \n",
       "500  Rajasthan Royals  "
      ]
     },
     "execution_count": 19,
     "metadata": {},
     "output_type": "execute_result"
    }
   ],
   "source": [
    "data.tail()"
   ]
  },
  {
   "cell_type": "code",
   "execution_count": 29,
   "id": "8418b939",
   "metadata": {
    "scrolled": true
   },
   "outputs": [
    {
     "data": {
      "text/html": [
       "<div>\n",
       "<style scoped>\n",
       "    .dataframe tbody tr th:only-of-type {\n",
       "        vertical-align: middle;\n",
       "    }\n",
       "\n",
       "    .dataframe tbody tr th {\n",
       "        vertical-align: top;\n",
       "    }\n",
       "\n",
       "    .dataframe thead th {\n",
       "        text-align: right;\n",
       "    }\n",
       "</style>\n",
       "<table border=\"1\" class=\"dataframe\">\n",
       "  <thead>\n",
       "    <tr style=\"text-align: right;\">\n",
       "      <th></th>\n",
       "      <th>id</th>\n",
       "      <th>inning</th>\n",
       "      <th>over</th>\n",
       "      <th>ball</th>\n",
       "      <th>batsman_runs</th>\n",
       "      <th>extra_runs</th>\n",
       "      <th>total_runs</th>\n",
       "      <th>non_boundary</th>\n",
       "      <th>is_wicket</th>\n",
       "    </tr>\n",
       "  </thead>\n",
       "  <tbody>\n",
       "    <tr>\n",
       "      <th>count</th>\n",
       "      <td>501.000000</td>\n",
       "      <td>501.000000</td>\n",
       "      <td>501.000000</td>\n",
       "      <td>501.000000</td>\n",
       "      <td>501.000000</td>\n",
       "      <td>501.000000</td>\n",
       "      <td>501.000000</td>\n",
       "      <td>501.0</td>\n",
       "      <td>501.000000</td>\n",
       "    </tr>\n",
       "    <tr>\n",
       "      <th>mean</th>\n",
       "      <td>251.000000</td>\n",
       "      <td>1.481038</td>\n",
       "      <td>8.750499</td>\n",
       "      <td>3.664671</td>\n",
       "      <td>1.453094</td>\n",
       "      <td>0.109780</td>\n",
       "      <td>1.562874</td>\n",
       "      <td>0.0</td>\n",
       "      <td>0.043912</td>\n",
       "    </tr>\n",
       "    <tr>\n",
       "      <th>std</th>\n",
       "      <td>144.770508</td>\n",
       "      <td>0.500140</td>\n",
       "      <td>5.577062</td>\n",
       "      <td>1.840470</td>\n",
       "      <td>1.858035</td>\n",
       "      <td>0.444887</td>\n",
       "      <td>1.829355</td>\n",
       "      <td>0.0</td>\n",
       "      <td>0.205105</td>\n",
       "    </tr>\n",
       "    <tr>\n",
       "      <th>min</th>\n",
       "      <td>1.000000</td>\n",
       "      <td>1.000000</td>\n",
       "      <td>0.000000</td>\n",
       "      <td>1.000000</td>\n",
       "      <td>0.000000</td>\n",
       "      <td>0.000000</td>\n",
       "      <td>0.000000</td>\n",
       "      <td>0.0</td>\n",
       "      <td>0.000000</td>\n",
       "    </tr>\n",
       "    <tr>\n",
       "      <th>25%</th>\n",
       "      <td>126.000000</td>\n",
       "      <td>1.000000</td>\n",
       "      <td>4.000000</td>\n",
       "      <td>2.000000</td>\n",
       "      <td>0.000000</td>\n",
       "      <td>0.000000</td>\n",
       "      <td>0.000000</td>\n",
       "      <td>0.0</td>\n",
       "      <td>0.000000</td>\n",
       "    </tr>\n",
       "    <tr>\n",
       "      <th>50%</th>\n",
       "      <td>251.000000</td>\n",
       "      <td>1.000000</td>\n",
       "      <td>9.000000</td>\n",
       "      <td>4.000000</td>\n",
       "      <td>1.000000</td>\n",
       "      <td>0.000000</td>\n",
       "      <td>1.000000</td>\n",
       "      <td>0.0</td>\n",
       "      <td>0.000000</td>\n",
       "    </tr>\n",
       "    <tr>\n",
       "      <th>75%</th>\n",
       "      <td>376.000000</td>\n",
       "      <td>2.000000</td>\n",
       "      <td>13.000000</td>\n",
       "      <td>5.000000</td>\n",
       "      <td>2.000000</td>\n",
       "      <td>0.000000</td>\n",
       "      <td>2.000000</td>\n",
       "      <td>0.0</td>\n",
       "      <td>0.000000</td>\n",
       "    </tr>\n",
       "    <tr>\n",
       "      <th>max</th>\n",
       "      <td>501.000000</td>\n",
       "      <td>2.000000</td>\n",
       "      <td>19.000000</td>\n",
       "      <td>8.000000</td>\n",
       "      <td>6.000000</td>\n",
       "      <td>5.000000</td>\n",
       "      <td>6.000000</td>\n",
       "      <td>0.0</td>\n",
       "      <td>1.000000</td>\n",
       "    </tr>\n",
       "  </tbody>\n",
       "</table>\n",
       "</div>"
      ],
      "text/plain": [
       "               id      inning        over        ball  batsman_runs  \\\n",
       "count  501.000000  501.000000  501.000000  501.000000    501.000000   \n",
       "mean   251.000000    1.481038    8.750499    3.664671      1.453094   \n",
       "std    144.770508    0.500140    5.577062    1.840470      1.858035   \n",
       "min      1.000000    1.000000    0.000000    1.000000      0.000000   \n",
       "25%    126.000000    1.000000    4.000000    2.000000      0.000000   \n",
       "50%    251.000000    1.000000    9.000000    4.000000      1.000000   \n",
       "75%    376.000000    2.000000   13.000000    5.000000      2.000000   \n",
       "max    501.000000    2.000000   19.000000    8.000000      6.000000   \n",
       "\n",
       "       extra_runs  total_runs  non_boundary   is_wicket  \n",
       "count  501.000000  501.000000         501.0  501.000000  \n",
       "mean     0.109780    1.562874           0.0    0.043912  \n",
       "std      0.444887    1.829355           0.0    0.205105  \n",
       "min      0.000000    0.000000           0.0    0.000000  \n",
       "25%      0.000000    0.000000           0.0    0.000000  \n",
       "50%      0.000000    1.000000           0.0    0.000000  \n",
       "75%      0.000000    2.000000           0.0    0.000000  \n",
       "max      5.000000    6.000000           0.0    1.000000  "
      ]
     },
     "execution_count": 29,
     "metadata": {},
     "output_type": "execute_result"
    }
   ],
   "source": [
    "data.describe()"
   ]
  },
  {
   "cell_type": "code",
   "execution_count": 32,
   "id": "28fd3560",
   "metadata": {},
   "outputs": [
    {
     "data": {
      "text/plain": [
       "<matplotlib.collections.PathCollection at 0x13a3f9474c0>"
      ]
     },
     "execution_count": 32,
     "metadata": {},
     "output_type": "execute_result"
    },
    {
     "data": {
      "image/png": "[encoded data removed]",
      "text/plain": [
       "<Figure size 640x480 with 1 Axes>"
      ]
     },
     "metadata": {},
     "output_type": "display_data"
    }
   ],
   "source": [
    "plt.scatter(data['inning'],data['over'])"
   ]
  },
  {
   "cell_type": "code",
   "execution_count": 57,
   "id": "4ec113a9",
   "metadata": {},
   "outputs": [
    {
     "name": "stderr",
     "output_type": "stream",
     "text": [
      "C:\\Users\\ADMIN\\anaconda3\\lib\\site-packages\\seaborn\\_decorators.py:36: FutureWarning: Pass the following variable as a keyword arg: x. From version 0.12, the only valid positional argument will be `data`, and passing other arguments without an explicit keyword will result in an error or misinterpretation.\n",
      "  warnings.warn(\n"
     ]
    },
    {
     "data": {
      "text/plain": [
       "<AxesSubplot:xlabel='ball', ylabel='count'>"
      ]
     },
     "execution_count": 57,
     "metadata": {},
     "output_type": "execute_result"
    },
    {
     "data": {
      "image/png": "[encoded data removed]",
      "text/plain": [
       "<Figure size 640x480 with 1 Axes>"
      ]
     },
     "metadata": {},
     "output_type": "display_data"
    }
   ],
   "source": [
    "sns.countplot(data['ball'])"
   ]
  },
  {
   "cell_type": "code",
   "execution_count": 58,
   "id": "d5bcf020",
   "metadata": {},
   "outputs": [
    {
     "data": {
      "text/plain": [
       "<AxesSubplot:>"
      ]
     },
     "execution_count": 58,
     "metadata": {},
     "output_type": "execute_result"
    },
    {
     "data": {
      "image/png": "[encoded data removed]",
      "text/plain": [
       "<Figure size 640x480 with 1 Axes>"
      ]
     },
     "metadata": {},
     "output_type": "display_data"
    }
   ],
   "source": [
    "data.boxplot(column =['ball'],grid = False)"
   ]
  },
  {
   "cell_type": "code",
   "execution_count": null,
   "id": "880b878c",
   "metadata": {},
   "outputs": [],
   "source": []
  },
  {
   "cell_type": "code",
   "execution_count": null,
   "id": "cc4d9f4f",
   "metadata": {},
   "outputs": [],
   "source": []
  },
  {
   "cell_type": "code",
   "execution_count": 59,
   "id": "49b77f94",
   "metadata": {},
   "outputs": [
    {
     "data": {
      "text/plain": [
       "<AxesSubplot:>"
      ]
     },
     "execution_count": 59,
     "metadata": {},
     "output_type": "execute_result"
    },
    {
     "data": {
      "image/png": "[encoded data removed]",
      "text/plain": [
       "<Figure size 640x480 with 1 Axes>"
      ]
     },
     "metadata": {},
     "output_type": "display_data"
    }
   ],
   "source": [
    "data.boxplot(column =['batsman_runs'],grid = False)"
   ]
  },
  {
   "cell_type": "code",
   "execution_count": 53,
   "id": "08ef8303",
   "metadata": {},
   "outputs": [
    {
     "name": "stdout",
     "output_type": "stream",
     "text": [
      "(array([ 20,  30,  34,  42,  44,  62,  65,  67,  77,  78,  79,  84,  89,\n",
      "        92,  94, 114, 134, 140, 208, 212, 217, 220, 229, 230, 247, 251,\n",
      "       259, 263, 266, 267, 272, 278, 280, 281, 282, 288, 299, 302, 303,\n",
      "       306, 311, 323, 334, 343, 350, 360, 365, 372, 393, 394, 397, 399,\n",
      "       400, 404, 416, 417, 439, 447, 454], dtype=int64),)\n"
     ]
    }
   ],
   "source": [
    "print(np.where(data['batsman_runs']==4.0))"
   ]
  },
  {
   "cell_type": "code",
   "execution_count": 55,
   "id": "129458c1",
   "metadata": {},
   "outputs": [],
   "source": [
    "data.drop([ 20,  30,  34,  42,  44,  62,  65,  67,    78,  79,  84, \n",
    "        92,  94, 114, 134, 140, 208, 212, 217, 220, 229, 230, 247, 251,\n",
    "       259, 263, 266, 267, 272, 278, 280, 281, 282, 288, 299, 302, 303,\n",
    "       306, 311, 323, 334, 343, 350, 360,  372, 393, 394, 397, 399,\n",
    "        404, 416, 417, 439, 447, 454],inplace = True)"
   ]
  },
  {
   "cell_type": "code",
   "execution_count": 56,
   "id": "44e96394",
   "metadata": {},
   "outputs": [
    {
     "data": {
      "text/plain": [
       "<AxesSubplot:>"
      ]
     },
     "execution_count": 56,
     "metadata": {},
     "output_type": "execute_result"
    },
    {
     "data": {
      "image/png": "[encoded data removed]",
      "text/plain": [
       "<Figure size 640x480 with 1 Axes>"
      ]
     },
     "metadata": {},
     "output_type": "display_data"
    }
   ],
   "source": [
    "data.boxplot(column =['batsman_runs'],grid = False)"
   ]
  },
  {
   "cell_type": "code",
   "execution_count": 64,
   "id": "662ef0b2",
   "metadata": {},
   "outputs": [
    {
     "data": {
      "text/plain": [
       "LabelEncoder()"
      ]
     },
     "execution_count": 64,
     "metadata": {},
     "output_type": "execute_result"
    }
   ],
   "source": [
    "from sklearn import preprocessing\n",
    "le = preprocessing.LabelEncoder()\n",
    "le.fit(data['ball'])"
   ]
  },
  {
   "cell_type": "code",
   "execution_count": null,
   "id": "08cdf063",
   "metadata": {},
   "outputs": [],
   "source": []
  },
  {
   "cell_type": "code",
   "execution_count": null,
   "id": "2d9b05d1",
   "metadata": {},
   "outputs": [],
   "source": []
  }
 ],
 "metadata": {
  "kernelspec": {
   "display_name": "Python 3 (ipykernel)",
   "language": "python",
   "name": "python3"
  },
  "language_info": {
   "codemirror_mode": {
    "name": "ipython",
    "version": 3
   },
   "file_extension": ".py",
   "mimetype": "text/x-python",
   "name": "python",
   "nbconvert_exporter": "python",
   "pygments_lexer": "ipython3",
   "version": "3.9.13"
  }
 },
 "nbformat": 4,
 "nbformat_minor": 5
}
