# To create a class of employee.
class Employee:
    
    def __init__(self, name, age, salary, job_title):
        self.name = name          # created a objects.                         
        self.age = age
        self.salary = salary
        self.job_title = job_title
        
#     In this implementation, we have encapsulated the data about an individual employee.

    def get_name(self):
        return self.name
    
    def get_age(self):
        return self.age
    
    def get_salary(self):
        return self.salary
    
    def get_job_title(self):
        return self.job_title
    
    def set_salary(self, new_salary):
        self.salary = new_salary
        
    class FullTimeEmployee(Employee):     # We have to inherit Employee into the FullTimeEmployee class.
        
        def __init__(self, name, age, salary, job_title):
            super().__init__(name, age, salary, job_title)

        def calculate_pay(self):
            return self.salary
    
    class PartTimeEmployee(Employee):
        
        def __init__(self, name, age, hourly_rate, hours_worked, job_title):
            super().__init__(name, age, None, job_title)
            self.hourly_rate = hourly_rate
            self.hours_worked = hours_worked
        
        def get_hourly_rate(self):
            return self.hourly_rate

        def get_hours_worked(self):
            return self.hours_worked

        def set_hourly_rate(self, new_hourly_rate):
            self.hourly_rate = new_hourly_rate

        def set_hours_worked(self, new_hours_worked):
            self.hours_worked = new_hours_worked

        def calculate_pay(self):
            return self.hourly_rate * self.hours_worked
