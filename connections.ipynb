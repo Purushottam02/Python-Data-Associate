{
 "cells": [
  {
   "cell_type": "code",
   "execution_count": 1,
   "id": "e8152bcd",
   "metadata": {
    "scrolled": true
   },
   "outputs": [],
   "source": [
    "import mysql.connector"
   ]
  },
  {
   "cell_type": "code",
   "execution_count": 2,
   "id": "e75b0257",
   "metadata": {},
   "outputs": [],
   "source": [
    "mydb = mysql.connector.connect(\n",
    "    host='localhost',\n",
    "    user='root',\n",
    "    password='purushottam'\n",
    ")"
   ]
  },
  {
   "cell_type": "code",
   "execution_count": 3,
   "id": "ae8063d2",
   "metadata": {},
   "outputs": [],
   "source": [
    "mycursor=mydb.cursor()"
   ]
  },
  {
   "cell_type": "code",
   "execution_count": 4,
   "id": "57fac6d5",
   "metadata": {},
   "outputs": [],
   "source": [
    "mycursor.execute(\"show databases;\")"
   ]
  },
  {
   "cell_type": "code",
   "execution_count": 5,
   "id": "4bb1a56b",
   "metadata": {},
   "outputs": [],
   "source": [
    "result = mycursor.fetchall()"
   ]
  },
  {
   "cell_type": "code",
   "execution_count": 6,
   "id": "9cb735b9",
   "metadata": {},
   "outputs": [
    {
     "name": "stdout",
     "output_type": "stream",
     "text": [
      "('examples',)\n",
      "('information_schema',)\n",
      "('mysql',)\n",
      "('performance_schema',)\n",
      "('pydb',)\n",
      "('ram',)\n",
      "('sakila',)\n",
      "('sys',)\n",
      "('world',)\n"
     ]
    }
   ],
   "source": [
    "for r in result:\n",
    "    print(r)"
   ]
  },
  {
   "cell_type": "code",
   "execution_count": 7,
   "id": "5b31ffca",
   "metadata": {},
   "outputs": [],
   "source": [
    "mycursor.execute(\"use examples;\")"
   ]
  },
  {
   "cell_type": "code",
   "execution_count": 8,
   "id": "17599b7b",
   "metadata": {},
   "outputs": [],
   "source": [
    "mycursor.execute(\"show tables;\")"
   ]
  },
  {
   "cell_type": "code",
   "execution_count": 9,
   "id": "7cb4bda8",
   "metadata": {},
   "outputs": [],
   "source": [
    "result = mycursor.fetchall()"
   ]
  },
  {
   "cell_type": "code",
   "execution_count": 10,
   "id": "430f312d",
   "metadata": {},
   "outputs": [
    {
     "name": "stdout",
     "output_type": "stream",
     "text": [
      "('crime',)\n",
      "('details',)\n",
      "('ecom',)\n",
      "('emloyee',)\n",
      "('emp',)\n",
      "('orders',)\n"
     ]
    }
   ],
   "source": [
    "for r in result:\n",
    "    print(r)"
   ]
  },
  {
   "cell_type": "code",
   "execution_count": 11,
   "id": "10731718",
   "metadata": {},
   "outputs": [],
   "source": [
    "mycursor.execute(\"select * from crime limit 5;\")"
   ]
  },
  {
   "cell_type": "code",
   "execution_count": 12,
   "id": "505e664b",
   "metadata": {},
   "outputs": [],
   "source": [
    "result = mycursor.fetchall()"
   ]
  },
  {
   "cell_type": "code",
   "execution_count": 13,
   "id": "9c9209cc",
   "metadata": {},
   "outputs": [
    {
     "name": "stdout",
     "output_type": "stream",
     "text": [
      "(1, 'State', 'Andhra Pradesh', 100, 36, 28, 29, 5, 8, 0, 8)\n",
      "(2, 'State', 'Arunachal Pradesh', 24, 10, 13, 13, 0, 6, 5, 1)\n",
      "(3, 'State', 'Assam', 37, 18, 8, 8, 1, 0, 0, 0)\n",
      "(4, 'State', 'Bihar', 43, 0, 40, 40, 0, 0, 0, 0)\n",
      "(5, 'State', 'Chhattisgarh', 65, 26, 32, 38, 1, 1, 0, 1)\n"
     ]
    }
   ],
   "source": [
    "for r in result:\n",
    "    print(r)"
   ]
  },
  {
   "cell_type": "code",
   "execution_count": 14,
   "id": "4e941246",
   "metadata": {},
   "outputs": [
    {
     "ename": "DatabaseError",
     "evalue": "1007 (HY000): Can't create database 'pydb'; database exists",
     "output_type": "error",
     "traceback": [
      "\u001b[1;31m---------------------------------------------------------------------------\u001b[0m",
      "\u001b[1;31mMySQLInterfaceError\u001b[0m                       Traceback (most recent call last)",
      "\u001b[1;32m~\\anaconda3\\lib\\site-packages\\mysql\\connector\\connection_cext.py\u001b[0m in \u001b[0;36mcmd_query\u001b[1;34m(self, query, raw, buffered, raw_as_string)\u001b[0m\n\u001b[0;32m    564\u001b[0m                 \u001b[0mquery\u001b[0m \u001b[1;33m=\u001b[0m \u001b[0mquery\u001b[0m\u001b[1;33m.\u001b[0m\u001b[0mencode\u001b[0m\u001b[1;33m(\u001b[0m\u001b[1;34m\"utf-8\"\u001b[0m\u001b[1;33m)\u001b[0m\u001b[1;33m\u001b[0m\u001b[1;33m\u001b[0m\u001b[0m\n\u001b[1;32m--> 565\u001b[1;33m             self._cmysql.query(\n\u001b[0m\u001b[0;32m    566\u001b[0m                 \u001b[0mquery\u001b[0m\u001b[1;33m,\u001b[0m\u001b[1;33m\u001b[0m\u001b[1;33m\u001b[0m\u001b[0m\n",
      "\u001b[1;31mMySQLInterfaceError\u001b[0m: Can't create database 'pydb'; database exists",
      "\nThe above exception was the direct cause of the following exception:\n",
      "\u001b[1;31mDatabaseError\u001b[0m                             Traceback (most recent call last)",
      "\u001b[1;32m~\\AppData\\Local\\Temp\\ipykernel_8352\\1096332161.py\u001b[0m in \u001b[0;36m<module>\u001b[1;34m\u001b[0m\n\u001b[1;32m----> 1\u001b[1;33m \u001b[0mmycursor\u001b[0m\u001b[1;33m.\u001b[0m\u001b[0mexecute\u001b[0m\u001b[1;33m(\u001b[0m\u001b[1;34m\"create database pydb;\"\u001b[0m\u001b[1;33m)\u001b[0m\u001b[1;33m\u001b[0m\u001b[1;33m\u001b[0m\u001b[0m\n\u001b[0m",
      "\u001b[1;32m~\\anaconda3\\lib\\site-packages\\mysql\\connector\\cursor_cext.py\u001b[0m in \u001b[0;36mexecute\u001b[1;34m(self, operation, params, multi)\u001b[0m\n\u001b[0;32m    277\u001b[0m \u001b[1;33m\u001b[0m\u001b[0m\n\u001b[0;32m    278\u001b[0m         \u001b[1;32mtry\u001b[0m\u001b[1;33m:\u001b[0m\u001b[1;33m\u001b[0m\u001b[1;33m\u001b[0m\u001b[0m\n\u001b[1;32m--> 279\u001b[1;33m             result = self._cnx.cmd_query(\n\u001b[0m\u001b[0;32m    280\u001b[0m                 \u001b[0mstmt\u001b[0m\u001b[1;33m,\u001b[0m\u001b[1;33m\u001b[0m\u001b[1;33m\u001b[0m\u001b[0m\n\u001b[0;32m    281\u001b[0m                 \u001b[0mraw\u001b[0m\u001b[1;33m=\u001b[0m\u001b[0mself\u001b[0m\u001b[1;33m.\u001b[0m\u001b[0m_raw\u001b[0m\u001b[1;33m,\u001b[0m\u001b[1;33m\u001b[0m\u001b[1;33m\u001b[0m\u001b[0m\n",
      "\u001b[1;32m~\\anaconda3\\lib\\site-packages\\mysql\\connector\\connection_cext.py\u001b[0m in \u001b[0;36mcmd_query\u001b[1;34m(self, query, raw, buffered, raw_as_string)\u001b[0m\n\u001b[0;32m    571\u001b[0m             )\n\u001b[0;32m    572\u001b[0m         \u001b[1;32mexcept\u001b[0m \u001b[0mMySQLInterfaceError\u001b[0m \u001b[1;32mas\u001b[0m \u001b[0merr\u001b[0m\u001b[1;33m:\u001b[0m\u001b[1;33m\u001b[0m\u001b[1;33m\u001b[0m\u001b[0m\n\u001b[1;32m--> 573\u001b[1;33m             raise get_mysql_exception(\n\u001b[0m\u001b[0;32m    574\u001b[0m                 \u001b[0merr\u001b[0m\u001b[1;33m.\u001b[0m\u001b[0merrno\u001b[0m\u001b[1;33m,\u001b[0m \u001b[0mmsg\u001b[0m\u001b[1;33m=\u001b[0m\u001b[0merr\u001b[0m\u001b[1;33m.\u001b[0m\u001b[0mmsg\u001b[0m\u001b[1;33m,\u001b[0m \u001b[0msqlstate\u001b[0m\u001b[1;33m=\u001b[0m\u001b[0merr\u001b[0m\u001b[1;33m.\u001b[0m\u001b[0msqlstate\u001b[0m\u001b[1;33m\u001b[0m\u001b[1;33m\u001b[0m\u001b[0m\n\u001b[0;32m    575\u001b[0m             ) from err\n",
      "\u001b[1;31mDatabaseError\u001b[0m: 1007 (HY000): Can't create database 'pydb'; database exists"
     ]
    }
   ],
   "source": [
    "mycursor.execute(\"create database pydb;\")"
   ]
  },
  {
   "cell_type": "code",
   "execution_count": null,
   "id": "89142f47",
   "metadata": {},
   "outputs": [],
   "source": [
    "mycursor.fetchall()"
   ]
  },
  {
   "cell_type": "code",
   "execution_count": 15,
   "id": "5e23c39e",
   "metadata": {},
   "outputs": [],
   "source": [
    "def sqlexec(stmt):\n",
    "    mycursor.execute(stmt)               #stmt= statement\n",
    "    res = mycursor.fetchall()            #res= result\n",
    "    for r in res:\n",
    "        print(r)\n",
    "        "
   ]
  },
  {
   "cell_type": "code",
   "execution_count": 16,
   "id": "3ed551a5",
   "metadata": {},
   "outputs": [
    {
     "name": "stdout",
     "output_type": "stream",
     "text": [
      "('examples',)\n",
      "('information_schema',)\n",
      "('mysql',)\n",
      "('performance_schema',)\n",
      "('pydb',)\n",
      "('ram',)\n",
      "('sakila',)\n",
      "('sys',)\n",
      "('world',)\n"
     ]
    }
   ],
   "source": [
    "stmt = 'show databases;'\n",
    "sqlexec(stmt)"
   ]
  },
  {
   "cell_type": "code",
   "execution_count": 17,
   "id": "cc1904e9",
   "metadata": {},
   "outputs": [],
   "source": [
    "stmt = 'use pydb;'\n",
    "sqlexec(stmt)"
   ]
  },
  {
   "cell_type": "code",
   "execution_count": 20,
   "id": "b1c064d6",
   "metadata": {},
   "outputs": [],
   "source": [
    "stmt = 'create table emp1(id int,name varchar(100));'\n",
    "sqlexec(stmt)"
   ]
  },
  {
   "cell_type": "code",
   "execution_count": 21,
   "id": "954f38ae",
   "metadata": {},
   "outputs": [],
   "source": [
    "stmt = 'insert into emp1 values(1,\"ram\");'\n",
    "sqlexec(stmt)"
   ]
  },
  {
   "cell_type": "code",
   "execution_count": 22,
   "id": "a2fe3925",
   "metadata": {},
   "outputs": [
    {
     "name": "stdout",
     "output_type": "stream",
     "text": [
      "(1, 'ram')\n"
     ]
    }
   ],
   "source": [
    "stmt = 'select * from emp1;'\n",
    "sqlexec(stmt)"
   ]
  },
  {
   "cell_type": "code",
   "execution_count": 23,
   "id": "fbaa5d56",
   "metadata": {},
   "outputs": [],
   "source": [
    "mydb.commit()"
   ]
  },
  {
   "cell_type": "code",
   "execution_count": null,
   "id": "5aaca14d",
   "metadata": {},
   "outputs": [],
   "source": []
  },
  {
   "cell_type": "code",
   "execution_count": null,
   "id": "c4e2b99a",
   "metadata": {},
   "outputs": [],
   "source": [
    "\n"
   ]
  }
 ],
 "metadata": {
  "kernelspec": {
   "display_name": "Python 3 (ipykernel)",
   "language": "python",
   "name": "python3"
  },
  "language_info": {
   "codemirror_mode": {
    "name": "ipython",
    "version": 3
   },
   "file_extension": ".py",
   "mimetype": "text/x-python",
   "name": "python",
   "nbconvert_exporter": "python",
   "pygments_lexer": "ipython3",
   "version": "3.9.13"
  }
 },
 "nbformat": 4,
 "nbformat_minor": 5
}
