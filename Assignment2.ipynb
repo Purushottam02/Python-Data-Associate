{
 "cells": [
  {
   "cell_type": "code",
   "execution_count": 1,
   "id": "e97a3a14",
   "metadata": {},
   "outputs": [],
   "source": [
    "import pandas as pd"
   ]
  },
  {
   "cell_type": "code",
   "execution_count": 6,
   "id": "2d1f68c2",
   "metadata": {},
   "outputs": [],
   "source": [
    "data=pd.read_csv(r'D:\\SCDL\\Python\\Spotify.csv')         #import dataset"
   ]
  },
  {
   "cell_type": "code",
   "execution_count": 7,
   "id": "d64de0ed",
   "metadata": {},
   "outputs": [
    {
     "data": {
      "text/html": [
       "<div>\n",
       "<style scoped>\n",
       "    .dataframe tbody tr th:only-of-type {\n",
       "        vertical-align: middle;\n",
       "    }\n",
       "\n",
       "    .dataframe tbody tr th {\n",
       "        vertical-align: top;\n",
       "    }\n",
       "\n",
       "    .dataframe thead th {\n",
       "        text-align: right;\n",
       "    }\n",
       "</style>\n",
       "<table border=\"1\" class=\"dataframe\">\n",
       "  <thead>\n",
       "    <tr style=\"text-align: right;\">\n",
       "      <th></th>\n",
       "      <th>Rank</th>\n",
       "      <th>Song</th>\n",
       "      <th>Streams (Billions)</th>\n",
       "      <th>Artist</th>\n",
       "      <th>Release Date</th>\n",
       "    </tr>\n",
       "  </thead>\n",
       "  <tbody>\n",
       "    <tr>\n",
       "      <th>0</th>\n",
       "      <td>1</td>\n",
       "      <td>Shape of You</td>\n",
       "      <td>3,327</td>\n",
       "      <td>Ed Sheeran</td>\n",
       "      <td>6 January 2017</td>\n",
       "    </tr>\n",
       "    <tr>\n",
       "      <th>1</th>\n",
       "      <td>2</td>\n",
       "      <td>Blinding Lights</td>\n",
       "      <td>3,323</td>\n",
       "      <td>The Weeknd</td>\n",
       "      <td>29 November 2019</td>\n",
       "    </tr>\n",
       "    <tr>\n",
       "      <th>2</th>\n",
       "      <td>3</td>\n",
       "      <td>Dance Monkey</td>\n",
       "      <td>2,721</td>\n",
       "      <td>Tones And I</td>\n",
       "      <td>10.May.19</td>\n",
       "    </tr>\n",
       "    <tr>\n",
       "      <th>3</th>\n",
       "      <td>4</td>\n",
       "      <td>Someone You Loved</td>\n",
       "      <td>2,588</td>\n",
       "      <td>Lewis Capaldi</td>\n",
       "      <td>8 November 2018</td>\n",
       "    </tr>\n",
       "    <tr>\n",
       "      <th>4</th>\n",
       "      <td>5</td>\n",
       "      <td>Rockstar</td>\n",
       "      <td>2,570</td>\n",
       "      <td>Post Malone featuring 21 Savage</td>\n",
       "      <td>15 September 2017</td>\n",
       "    </tr>\n",
       "  </tbody>\n",
       "</table>\n",
       "</div>"
      ],
      "text/plain": [
       "   Rank               Song Streams (Billions)  \\\n",
       "0     1       Shape of You              3,327   \n",
       "1     2    Blinding Lights              3,323   \n",
       "2     3       Dance Monkey              2,721   \n",
       "3     4  Someone You Loved              2,588   \n",
       "4     5           Rockstar              2,570   \n",
       "\n",
       "                            Artist       Release Date  \n",
       "0                       Ed Sheeran     6 January 2017  \n",
       "1                       The Weeknd   29 November 2019  \n",
       "2                      Tones And I          10.May.19  \n",
       "3                    Lewis Capaldi    8 November 2018  \n",
       "4  Post Malone featuring 21 Savage  15 September 2017  "
      ]
     },
     "execution_count": 7,
     "metadata": {},
     "output_type": "execute_result"
    }
   ],
   "source": [
    "data.head()             #this cmd shows first five rows of data table"
   ]
  },
  {
   "cell_type": "code",
   "execution_count": 8,
   "id": "a862bcfb",
   "metadata": {},
   "outputs": [
    {
     "data": {
      "text/plain": [
       "Rank                  0\n",
       "Song                  0\n",
       "Streams (Billions)    0\n",
       "Artist                0\n",
       "Release Date          0\n",
       "dtype: int64"
      ]
     },
     "execution_count": 8,
     "metadata": {},
     "output_type": "execute_result"
    }
   ],
   "source": [
    "data.isna().sum()               #basically this cmd shows null values from our dataset"
   ]
  },
  {
   "cell_type": "code",
   "execution_count": 9,
   "id": "e5f3a36e",
   "metadata": {},
   "outputs": [
    {
     "data": {
      "text/html": [
       "<div>\n",
       "<style scoped>\n",
       "    .dataframe tbody tr th:only-of-type {\n",
       "        vertical-align: middle;\n",
       "    }\n",
       "\n",
       "    .dataframe tbody tr th {\n",
       "        vertical-align: top;\n",
       "    }\n",
       "\n",
       "    .dataframe thead th {\n",
       "        text-align: right;\n",
       "    }\n",
       "</style>\n",
       "<table border=\"1\" class=\"dataframe\">\n",
       "  <thead>\n",
       "    <tr style=\"text-align: right;\">\n",
       "      <th></th>\n",
       "      <th>Rank</th>\n",
       "      <th>Song</th>\n",
       "      <th>Streams (Billions)</th>\n",
       "      <th>Artist</th>\n",
       "      <th>Release Date</th>\n",
       "    </tr>\n",
       "  </thead>\n",
       "  <tbody>\n",
       "    <tr>\n",
       "      <th>95</th>\n",
       "      <td>96</td>\n",
       "      <td>I'm Yours</td>\n",
       "      <td>1,490</td>\n",
       "      <td>Jason Mraz</td>\n",
       "      <td>12 February 2008</td>\n",
       "    </tr>\n",
       "    <tr>\n",
       "      <th>96</th>\n",
       "      <td>97</td>\n",
       "      <td>Despacito</td>\n",
       "      <td>1,490</td>\n",
       "      <td>Luis Fonsi featuring Daddy Yankee</td>\n",
       "      <td>12 January 2017</td>\n",
       "    </tr>\n",
       "    <tr>\n",
       "      <th>97</th>\n",
       "      <td>98</td>\n",
       "      <td>Smells Like Teen Spirit</td>\n",
       "      <td>1,487</td>\n",
       "      <td>Nirvana</td>\n",
       "      <td>10 September 1991</td>\n",
       "    </tr>\n",
       "    <tr>\n",
       "      <th>98</th>\n",
       "      <td>99</td>\n",
       "      <td>Sugar</td>\n",
       "      <td>1,480</td>\n",
       "      <td>Maroon 5</td>\n",
       "      <td>29 August 2014</td>\n",
       "    </tr>\n",
       "    <tr>\n",
       "      <th>99</th>\n",
       "      <td>100</td>\n",
       "      <td>Rockstar</td>\n",
       "      <td>1,478</td>\n",
       "      <td>DaBaby featuring Roddy Ricch</td>\n",
       "      <td>17 April 2020</td>\n",
       "    </tr>\n",
       "  </tbody>\n",
       "</table>\n",
       "</div>"
      ],
      "text/plain": [
       "    Rank                     Song Streams (Billions)  \\\n",
       "95    96                I'm Yours              1,490   \n",
       "96    97                Despacito              1,490   \n",
       "97    98  Smells Like Teen Spirit              1,487   \n",
       "98    99                    Sugar              1,480   \n",
       "99   100                 Rockstar              1,478   \n",
       "\n",
       "                               Artist       Release Date  \n",
       "95                         Jason Mraz   12 February 2008  \n",
       "96  Luis Fonsi featuring Daddy Yankee    12 January 2017  \n",
       "97                            Nirvana  10 September 1991  \n",
       "98                           Maroon 5     29 August 2014  \n",
       "99       DaBaby featuring Roddy Ricch      17 April 2020  "
      ]
     },
     "execution_count": 9,
     "metadata": {},
     "output_type": "execute_result"
    }
   ],
   "source": [
    "data.tail()          #this cmd shows last five rows of data table"
   ]
  },
  {
   "cell_type": "code",
   "execution_count": 10,
   "id": "1c132eb5",
   "metadata": {},
   "outputs": [
    {
     "data": {
      "text/html": [
       "<div>\n",
       "<style scoped>\n",
       "    .dataframe tbody tr th:only-of-type {\n",
       "        vertical-align: middle;\n",
       "    }\n",
       "\n",
       "    .dataframe tbody tr th {\n",
       "        vertical-align: top;\n",
       "    }\n",
       "\n",
       "    .dataframe thead th {\n",
       "        text-align: right;\n",
       "    }\n",
       "</style>\n",
       "<table border=\"1\" class=\"dataframe\">\n",
       "  <thead>\n",
       "    <tr style=\"text-align: right;\">\n",
       "      <th></th>\n",
       "      <th>Rank</th>\n",
       "    </tr>\n",
       "  </thead>\n",
       "  <tbody>\n",
       "    <tr>\n",
       "      <th>count</th>\n",
       "      <td>100.000000</td>\n",
       "    </tr>\n",
       "    <tr>\n",
       "      <th>mean</th>\n",
       "      <td>50.500000</td>\n",
       "    </tr>\n",
       "    <tr>\n",
       "      <th>std</th>\n",
       "      <td>29.011492</td>\n",
       "    </tr>\n",
       "    <tr>\n",
       "      <th>min</th>\n",
       "      <td>1.000000</td>\n",
       "    </tr>\n",
       "    <tr>\n",
       "      <th>25%</th>\n",
       "      <td>25.750000</td>\n",
       "    </tr>\n",
       "    <tr>\n",
       "      <th>50%</th>\n",
       "      <td>50.500000</td>\n",
       "    </tr>\n",
       "    <tr>\n",
       "      <th>75%</th>\n",
       "      <td>75.250000</td>\n",
       "    </tr>\n",
       "    <tr>\n",
       "      <th>max</th>\n",
       "      <td>100.000000</td>\n",
       "    </tr>\n",
       "  </tbody>\n",
       "</table>\n",
       "</div>"
      ],
      "text/plain": [
       "             Rank\n",
       "count  100.000000\n",
       "mean    50.500000\n",
       "std     29.011492\n",
       "min      1.000000\n",
       "25%     25.750000\n",
       "50%     50.500000\n",
       "75%     75.250000\n",
       "max    100.000000"
      ]
     },
     "execution_count": 10,
     "metadata": {},
     "output_type": "execute_result"
    }
   ],
   "source": [
    "data.describe()                                  #description of imported data like all count,mean,\n",
    "                                                #standard deviation,minimum value,etc"
   ]
  },
  {
   "cell_type": "code",
   "execution_count": 13,
   "id": "86fa2d47",
   "metadata": {},
   "outputs": [
    {
     "data": {
      "text/plain": [
       "Ed Sheeran                               4\n",
       "Imagine Dragons                          3\n",
       "XXXTentacion                             3\n",
       "Shawn Mendes                             3\n",
       "Maroon 5                                 2\n",
       "                                        ..\n",
       "Camila Cabello featuring Young Thug      1\n",
       "Travis Scott featuring Kendrick Lamar    1\n",
       "The Neighbourhood                        1\n",
       "John Legend                              1\n",
       "DaBaby featuring Roddy Ricch             1\n",
       "Name: Artist, Length: 82, dtype: int64"
      ]
     },
     "execution_count": 13,
     "metadata": {},
     "output_type": "execute_result"
    }
   ],
   "source": [
    "data['Artist'].value_counts()                      #counts of 'artist' in table"
   ]
  },
  {
   "cell_type": "code",
   "execution_count": 16,
   "id": "acd0a7e7",
   "metadata": {},
   "outputs": [],
   "source": [
    "m1=data['Streams (Billions)'].mode()              #mode of 'Stream_billions' column"
   ]
  },
  {
   "cell_type": "code",
   "execution_count": 17,
   "id": "af77256c",
   "metadata": {},
   "outputs": [
    {
     "data": {
      "text/plain": [
       "0    1,490\n",
       "1    1,515\n",
       "2    1,618\n",
       "3    1,669\n",
       "4    1,721\n",
       "5    1,756\n",
       "6    1,808\n",
       "Name: Streams (Billions), dtype: object"
      ]
     },
     "execution_count": 17,
     "metadata": {},
     "output_type": "execute_result"
    }
   ],
   "source": [
    "m1"
   ]
  },
  {
   "cell_type": "code",
   "execution_count": null,
   "id": "0193962f",
   "metadata": {},
   "outputs": [],
   "source": []
  },
  {
   "cell_type": "code",
   "execution_count": null,
   "id": "73ee50bb",
   "metadata": {},
   "outputs": [],
   "source": []
  }
 ],
 "metadata": {
  "kernelspec": {
   "display_name": "Python 3 (ipykernel)",
   "language": "python",
   "name": "python3"
  },
  "language_info": {
   "codemirror_mode": {
    "name": "ipython",
    "version": 3
   },
   "file_extension": ".py",
   "mimetype": "text/x-python",
   "name": "python",
   "nbconvert_exporter": "python",
   "pygments_lexer": "ipython3",
   "version": "3.9.13"
  }
 },
 "nbformat": 4,
 "nbformat_minor": 5
}
